{
 "cells": [
  {
   "cell_type": "code",
   "execution_count": 1,
   "id": "a66d7eb7",
   "metadata": {},
   "outputs": [],
   "source": [
    "import tkinter as tk\n",
    "import pandas as pd \n",
    "\n",
    "# Load the dataset\n",
    "df = pd.read_csv(\"datasets/tour_data.csv\")\n",
    "\n",
    "# Function to handle the tour recommendation based on user preferences\n",
    "def recommend_tours(user_preferences):\n",
    "    # Filter the dataset based on user preferences\n",
    "    filtered_df = df[df[\"features\"].str.contains(user_preferences, case=False)]\n",
    "\n",
    "    # Get the recommended tour names\n",
    "    recommendations = filtered_df[\"tour_name\"].tolist()\n",
    "\n",
    "    return recommendations\n",
    "\n",
    "def get_recommendations():\n",
    "    user_preferences = preferences_entry.get()  # Get user preferences from the entry widget\n",
    "\n",
    "    # Call the recommendation function and get the recommended tours\n",
    "    recommendations = recommend_tours(user_preferences)\n",
    "\n",
    "    # Clear the text box\n",
    "    output_text.delete(1.0, tk.END)\n",
    "\n",
    "    # Display the recommendations in the text box\n",
    "    if recommendations:\n",
    "        for recommendation in recommendations:\n",
    "            output_text.insert(tk.END, recommendation + \"\\n\")\n",
    "    else:\n",
    "        output_text.insert(tk.END, \"No tours found matching your preferences.\")\n",
    "\n",
    "# Create the main window\n",
    "window = tk.Tk()\n",
    "window.title(\"Tour Recommendation System\")\n",
    "\n",
    "# Create a label and entry widget for user preferences\n",
    "preferences_label = tk.Label(window, text=\"Enter your preferences:\")\n",
    "preferences_label.pack()\n",
    "preferences_entry = tk.Entry(window)\n",
    "preferences_entry.pack()\n",
    "\n",
    "# Create a button to trigger the recommendation\n",
    "recommend_button = tk.Button(window, text=\"Recommend\", command=get_recommendations)\n",
    "recommend_button.pack()\n",
    "\n",
    "# Create a text box to display the recommendations\n",
    "output_text = tk.Text(window, height=10, width=40)\n",
    "output_text.pack()\n",
    "\n",
    "# Run the main event loop\n",
    "window.mainloop()\n"
   ]
  },
  {
   "cell_type": "code",
   "execution_count": null,
   "id": "c2e0c005",
   "metadata": {},
   "outputs": [],
   "source": []
  },
  {
   "cell_type": "code",
   "execution_count": 2,
   "id": "7a6cba3d",
   "metadata": {},
   "outputs": [],
   "source": []
  },
  {
   "cell_type": "code",
   "execution_count": null,
   "id": "a3bce9b5",
   "metadata": {},
   "outputs": [],
   "source": []
  }
 ],
 "metadata": {
  "kernelspec": {
   "display_name": "Python 3 (ipykernel)",
   "language": "python",
   "name": "python3"
  },
  "language_info": {
   "codemirror_mode": {
    "name": "ipython",
    "version": 3
   },
   "file_extension": ".py",
   "mimetype": "text/x-python",
   "name": "python",
   "nbconvert_exporter": "python",
   "pygments_lexer": "ipython3",
   "version": "3.10.6"
  }
 },
 "nbformat": 4,
 "nbformat_minor": 5
}
